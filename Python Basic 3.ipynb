{
 "cells": [
  {
   "cell_type": "code",
   "execution_count": 1,
   "id": "c2501a6a",
   "metadata": {},
   "outputs": [
    {
     "data": {
      "text/plain": [
       "'Ezytrainess'"
      ]
     },
     "execution_count": 1,
     "metadata": {},
     "output_type": "execute_result"
    }
   ],
   "source": [
    "#String in pythons are used to represent unicode character value, a single character is also considered as a string.\n",
    "#we denote or declare the string value inside single quotes or double quotes.\n",
    "#To acces the value in a string ,we use the indexes and square brackets.\n",
    "\n",
    "string = 'Ezytrainess'\n",
    "string"
   ]
  },
  {
   "cell_type": "code",
   "execution_count": 2,
   "id": "1532d359",
   "metadata": {
    "scrolled": true
   },
   "outputs": [
    {
     "data": {
      "text/plain": [
       "'r'"
      ]
     },
     "execution_count": 2,
     "metadata": {},
     "output_type": "execute_result"
    }
   ],
   "source": [
    "string[4]"
   ]
  },
  {
   "cell_type": "code",
   "execution_count": 3,
   "id": "5ed22c91",
   "metadata": {
    "scrolled": true
   },
   "outputs": [
    {
     "data": {
      "text/plain": [
       "'E'"
      ]
     },
     "execution_count": 3,
     "metadata": {},
     "output_type": "execute_result"
    }
   ],
   "source": [
    "string[0]"
   ]
  },
  {
   "cell_type": "code",
   "execution_count": 4,
   "id": "9c974640",
   "metadata": {},
   "outputs": [
    {
     "data": {
      "text/plain": [
       "'e'"
      ]
     },
     "execution_count": 4,
     "metadata": {},
     "output_type": "execute_result"
    }
   ],
   "source": [
    "string[8]"
   ]
  },
  {
   "cell_type": "code",
   "execution_count": null,
   "id": "a9d1daf0",
   "metadata": {},
   "outputs": [],
   "source": [
    "#To input for string \n",
    "x=input()\n",
    "\n",
    "Ezytrainess is Eazy\n",
    "\n",
    "z=input()\n",
    "\n",
    "Hi All my viewers"
   ]
  },
  {
   "cell_type": "code",
   "execution_count": null,
   "id": "98bec444",
   "metadata": {},
   "outputs": [],
   "source": []
  },
  {
   "cell_type": "markdown",
   "id": "2a304cdd",
   "metadata": {},
   "source": [
    "Basic Operations using String"
   ]
  },
  {
   "cell_type": "code",
   "execution_count": 9,
   "id": "45f3d750",
   "metadata": {},
   "outputs": [
    {
     "data": {
      "text/plain": [
       "'ytrainess'"
      ]
     },
     "execution_count": 9,
     "metadata": {},
     "output_type": "execute_result"
    }
   ],
   "source": [
    "#will amke the letters to Uppercase\n",
    "string.upper()\n",
    "\n",
    "\n",
    "#will make the letters to Lowercase\n",
    "string.lower()\n",
    "\n",
    "# will return the string  string at index 2 unitl the index 6.\n",
    "string [2:16]"
   ]
  },
  {
   "cell_type": "markdown",
   "id": "06952252",
   "metadata": {},
   "source": [
    "Complex data types"
   ]
  },
  {
   "cell_type": "code",
   "execution_count": null,
   "id": "7a7c6a79",
   "metadata": {},
   "outputs": [],
   "source": []
  }
 ],
 "metadata": {
  "kernelspec": {
   "display_name": "Python 3 (ipykernel)",
   "language": "python",
   "name": "python3"
  },
  "language_info": {
   "codemirror_mode": {
    "name": "ipython",
    "version": 3
   },
   "file_extension": ".py",
   "mimetype": "text/x-python",
   "name": "python",
   "nbconvert_exporter": "python",
   "pygments_lexer": "ipython3",
   "version": "3.10.9"
  }
 },
 "nbformat": 4,
 "nbformat_minor": 5
}
